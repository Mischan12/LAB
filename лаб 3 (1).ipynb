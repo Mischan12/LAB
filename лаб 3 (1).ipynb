{
 "cells": [
  {
   "cell_type": "code",
   "execution_count": null,
   "id": "99c6402c-578b-49c4-9387-305305b903ae",
   "metadata": {},
   "outputs": [],
   "source": [
    "from deeppavlov import configs, build_model"
   ]
  },
  {
   "cell_type": "code",
   "execution_count": null,
   "id": "4d854fdd-18fe-4309-8717-ebd8d8fa5e14",
   "metadata": {},
   "outputs": [],
   "source": [
    "import pandas as pd\n",
    "model = build_model('insults_kaggle_bert', download=True)"
   ]
  },
  {
   "cell_type": "code",
   "execution_count": null,
   "id": "4ac9ba2c-37ed-41c6-9487-62526d916faa",
   "metadata": {},
   "outputs": [],
   "source": [
    "model(['You are kind of stupid', 'You are a wonderful person!'])"
   ]
  },
  {
   "cell_type": "code",
   "execution_count": null,
   "id": "ad6b72d3-7369-4fda-8754-3eee38a8d079",
   "metadata": {},
   "outputs": [],
   "source": [
    "data = pd.read_csv(r'C:\\Users\\Mischan\\anaconda3\\dataset\\toxic_comments.csv')\n",
    "text = data['text']"
   ]
  },
  {
   "cell_type": "code",
   "execution_count": null,
   "id": "b6fbdca3-9d20-4e2e-b82f-79117470f059",
   "metadata": {},
   "outputs": [],
   "source": [
    "for i in range(0,10,1):\n",
    "    print(\"Номер твита: \", i + 1, \", тональность текста :\", model([text[i]]))\n",
    "    print(text[i])\n",
    "    print(\" "
   ]
  },
  {
   "cell_type": "code",
   "execution_count": null,
   "id": "768d1e5c-a7a9-491b-a858-6659df5222b7",
   "metadata": {},
   "outputs": [],
   "source": [
    "testData = pd.read_csv(r'C:\\Users\\Mischan\\anaconda3\\dataset\\rusentitweet_test.csv')\n",
    "ttext = testData['text']"
   ]
  },
  {
   "cell_type": "code",
   "execution_count": null,
   "id": "527f483e-a83c-4c19-8e84-235743a814a1",
   "metadata": {},
   "outputs": [],
   "source": [
    "ruModel = build_model(configs.classifiers.rusentiment_bert, download = True, install=True)"
   ]
  },
  {
   "cell_type": "code",
   "execution_count": null,
   "id": "eb5f366a-d041-4be1-abb6-b56bbad138ca",
   "metadata": {},
   "outputs": [],
   "source": [
    "for i in range(0,10,1):\n",
    "    print(\"Номер твита: \", i + 1, \", тональность текста :\", ruModel([ttext[i]]))\n",
    "    print(ttext[i])\n",
    "    print(\"      "
   ]
  },
  {
   "cell_type": "code",
   "execution_count": null,
   "id": "b0d2bb09-13e8-430d-bfea-5f0e8d0b1a72",
   "metadata": {},
   "outputs": [],
   "source": []
  }
 ],
 "metadata": {
  "kernelspec": {
   "display_name": "Python 3 (ipykernel)",
   "language": "python",
   "name": "python3"
  },
  "language_info": {
   "codemirror_mode": {
    "name": "ipython",
    "version": 3
   },
   "file_extension": ".py",
   "mimetype": "text/x-python",
   "name": "python",
   "nbconvert_exporter": "python",
   "pygments_lexer": "ipython3",
   "version": "3.11.5"
  }
 },
 "nbformat": 4,
 "nbformat_minor": 5
}
